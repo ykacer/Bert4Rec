{
  "cells": [
    {
      "cell_type": "code",
      "source": [
        "from google.colab import drive\n",
        "drive.mount('/content/drive')"
      ],
      "metadata": {
        "colab": {
          "base_uri": "https://localhost:8080/"
        },
        "id": "aGohgHJcuodY",
        "outputId": "d4f0fdd5-8821-48bd-8218-d80c92dfd718"
      },
      "id": "aGohgHJcuodY",
      "execution_count": 1,
      "outputs": [
        {
          "output_type": "stream",
          "name": "stdout",
          "text": [
            "Mounted at /content/drive\n"
          ]
        }
      ]
    },
    {
      "cell_type": "code",
      "source": [
        "!pip install datasets"
      ],
      "metadata": {
        "id": "-4s1BtOAs12F"
      },
      "id": "-4s1BtOAs12F",
      "execution_count": null,
      "outputs": []
    },
    {
      "cell_type": "code",
      "source": [
        "!pip install transformers"
      ],
      "metadata": {
        "id": "U_Se5wJ2s5Qy"
      },
      "id": "U_Se5wJ2s5Qy",
      "execution_count": null,
      "outputs": []
    },
    {
      "cell_type": "code",
      "execution_count": 4,
      "id": "259657dd",
      "metadata": {
        "ExecuteTime": {
          "end_time": "2022-09-06T20:06:31.876925Z",
          "start_time": "2022-09-06T20:06:28.347640Z"
        },
        "id": "259657dd"
      },
      "outputs": [],
      "source": [
        "import pandas as pd\n",
        "import numpy as np\n",
        "from glob import glob\n",
        "from tqdm import tqdm\n",
        "\n",
        "import tensorflow as tf\n",
        "\n",
        "# huggingface\n",
        "from datasets import Dataset\n",
        "from transformers import BertForMaskedLM, TFBertForMaskedLM, BertConfig, BertTokenizer\n",
        "from transformers import DataCollatorForLanguageModeling\n",
        "from transformers import create_optimizer, AdamWeightDecay"
      ]
    },
    {
      "cell_type": "markdown",
      "id": "2ac201b6",
      "metadata": {
        "id": "2ac201b6"
      },
      "source": [
        "# Sequential Recommandation Engine"
      ]
    },
    {
      "cell_type": "markdown",
      "id": "6dd18dae",
      "metadata": {
        "id": "6dd18dae"
      },
      "source": [
        "## Data"
      ]
    },
    {
      "cell_type": "markdown",
      "id": "c9879579",
      "metadata": {
        "id": "c9879579"
      },
      "source": [
        "### Construct Tensorflow Dataset"
      ]
    },
    {
      "cell_type": "code",
      "source": [
        "!unzip /content/drive/MyDrive/Bert4Rec/recommendation.zip -d /content/drive/MyDrive/Bert4Rec/"
      ],
      "metadata": {
        "id": "CRLyNAbpuYnd"
      },
      "id": "CRLyNAbpuYnd",
      "execution_count": null,
      "outputs": []
    },
    {
      "cell_type": "code",
      "execution_count": 5,
      "id": "1d8d0577",
      "metadata": {
        "ExecuteTime": {
          "end_time": "2022-09-06T20:06:31.880964Z",
          "start_time": "2022-09-06T20:06:31.878359Z"
        },
        "id": "1d8d0577"
      },
      "outputs": [],
      "source": [
        "feature_description = {\n",
        "        \"userIndex\": tf.io.FixedLenFeature([], tf.int64),\n",
        "        \"movieIndices\": tf.io.RaggedFeature(tf.int64, row_splits_dtype=tf.int64),\n",
        "        \"timestamps\": tf.io.RaggedFeature(tf.int64, row_splits_dtype=tf.int64)\n",
        "    }\n"
      ]
    },
    {
      "cell_type": "code",
      "execution_count": 6,
      "id": "368e4c84",
      "metadata": {
        "ExecuteTime": {
          "end_time": "2022-09-06T20:06:31.977663Z",
          "start_time": "2022-09-06T20:06:31.882408Z"
        },
        "id": "368e4c84"
      },
      "outputs": [],
      "source": [
        "def parse_tfrecord_fn(example):\n",
        "    feature_description = {\n",
        "        \"userIndex\": tf.io.FixedLenFeature([], tf.int64),\n",
        "        \"movieIndices\": tf.io.RaggedFeature(tf.int64, row_splits_dtype=tf.int64),\n",
        "        \"timestamps\": tf.io.RaggedFeature(tf.int64, row_splits_dtype=tf.int64)\n",
        "    }\n",
        "    example = tf.io.parse_single_example(example, feature_description)\n",
        "    return example['userIndex'], example['timestamps'], example['movieIndices']\n",
        "raw_dataset = tf.data.TFRecordDataset(glob(\"/content/drive/MyDrive/Bert4Rec/recommendation/dataset/*\"))\n",
        "parsed_dataset = raw_dataset.map(parse_tfrecord_fn)"
      ]
    },
    {
      "cell_type": "markdown",
      "id": "9f701611",
      "metadata": {
        "ExecuteTime": {
          "end_time": "2022-09-02T11:07:14.218909Z",
          "start_time": "2022-09-02T11:07:14.216352Z"
        },
        "heading_collapsed": true,
        "id": "9f701611"
      },
      "source": [
        "### Transform to pandas.Dataframe for exploration purpose"
      ]
    },
    {
      "cell_type": "code",
      "execution_count": 32,
      "id": "732a04c0",
      "metadata": {
        "ExecuteTime": {
          "end_time": "2022-09-06T14:35:52.628689Z",
          "start_time": "2022-09-06T14:35:12.276801Z"
        },
        "hidden": true,
        "colab": {
          "base_uri": "https://localhost:8080/"
        },
        "id": "732a04c0",
        "outputId": "4a68f424-f58c-475a-cac7-a4f35b544d85"
      },
      "outputs": [
        {
          "output_type": "stream",
          "name": "stderr",
          "text": [
            "324849it [01:29, 3622.46it/s]\n"
          ]
        }
      ],
      "source": [
        "df_dict = {}\n",
        "for features in tqdm(parsed_dataset):\n",
        "    u, t, m = features\n",
        "    df_dict.setdefault('userIndex', []).append(u.numpy())\n",
        "    df_dict.setdefault('timestamps', []).append(t.numpy())\n",
        "    df_dict.setdefault('movieIndices', []).append(m.numpy())"
      ]
    },
    {
      "cell_type": "code",
      "execution_count": 33,
      "id": "320a5eab",
      "metadata": {
        "ExecuteTime": {
          "end_time": "2022-09-06T14:35:59.809250Z",
          "start_time": "2022-09-06T14:35:52.630069Z"
        },
        "hidden": true,
        "id": "320a5eab"
      },
      "outputs": [],
      "source": [
        "df = pd.DataFrame.from_dict(df_dict, orient='index').transpose()"
      ]
    },
    {
      "cell_type": "code",
      "execution_count": 34,
      "id": "794c1055",
      "metadata": {
        "ExecuteTime": {
          "end_time": "2022-09-06T14:35:59.818234Z",
          "start_time": "2022-09-06T14:35:59.810874Z"
        },
        "hidden": true,
        "id": "794c1055",
        "outputId": "5dbf8aaf-d17f-40e1-fcc9-b2d7286a2ee3",
        "colab": {
          "base_uri": "https://localhost:8080/"
        }
      },
      "outputs": [
        {
          "output_type": "stream",
          "name": "stdout",
          "text": [
            "324849\n"
          ]
        }
      ],
      "source": [
        "Nsessions, _ = df.shape\n",
        "print(Nsessions)"
      ]
    },
    {
      "cell_type": "code",
      "source": [
        "df.head()"
      ],
      "metadata": {
        "colab": {
          "base_uri": "https://localhost:8080/",
          "height": 206
        },
        "id": "2IjrMOZj0k8H",
        "outputId": "d4f136b0-5842-4db3-d917-36b21e9daae9"
      },
      "id": "2IjrMOZj0k8H",
      "execution_count": 35,
      "outputs": [
        {
          "output_type": "execute_result",
          "data": {
            "text/plain": [
              "  userIndex                                         timestamps  \\\n",
              "0     49744  [946265827, 946265827, 946266411, 946266496, 9...   \n",
              "1     49745  [941372629, 941372708, 941372708, 941372708, 9...   \n",
              "2     49746  [837170891, 837170944, 837170987, 837170987, 8...   \n",
              "3     49747  [1546520504, 1546520514, 1546520519, 154652056...   \n",
              "4     49748  [1476643481, 1476643487, 1476643874, 147664402...   \n",
              "\n",
              "                                        movieIndices  \n",
              "0                 [2612, 190, 7780, 1279, 2593, 934]  \n",
              "1  [813, 171, 1234, 1580, 43, 57, 1013, 175, 178,...  \n",
              "2  [40, 46, 1191, 44, 158, 49, 1190, 528, 574, 39...  \n",
              "3                [162, 51, 175, 109, 1016, 169, 994]  \n",
              "4  [4957, 29, 10070, 8257, 2160, 18, 432, 9133, 7...  "
            ],
            "text/html": [
              "\n",
              "  <div id=\"df-0efd0cd4-30b7-4572-9b51-cf2632d5b2a1\">\n",
              "    <div class=\"colab-df-container\">\n",
              "      <div>\n",
              "<style scoped>\n",
              "    .dataframe tbody tr th:only-of-type {\n",
              "        vertical-align: middle;\n",
              "    }\n",
              "\n",
              "    .dataframe tbody tr th {\n",
              "        vertical-align: top;\n",
              "    }\n",
              "\n",
              "    .dataframe thead th {\n",
              "        text-align: right;\n",
              "    }\n",
              "</style>\n",
              "<table border=\"1\" class=\"dataframe\">\n",
              "  <thead>\n",
              "    <tr style=\"text-align: right;\">\n",
              "      <th></th>\n",
              "      <th>userIndex</th>\n",
              "      <th>timestamps</th>\n",
              "      <th>movieIndices</th>\n",
              "    </tr>\n",
              "  </thead>\n",
              "  <tbody>\n",
              "    <tr>\n",
              "      <th>0</th>\n",
              "      <td>49744</td>\n",
              "      <td>[946265827, 946265827, 946266411, 946266496, 9...</td>\n",
              "      <td>[2612, 190, 7780, 1279, 2593, 934]</td>\n",
              "    </tr>\n",
              "    <tr>\n",
              "      <th>1</th>\n",
              "      <td>49745</td>\n",
              "      <td>[941372629, 941372708, 941372708, 941372708, 9...</td>\n",
              "      <td>[813, 171, 1234, 1580, 43, 57, 1013, 175, 178,...</td>\n",
              "    </tr>\n",
              "    <tr>\n",
              "      <th>2</th>\n",
              "      <td>49746</td>\n",
              "      <td>[837170891, 837170944, 837170987, 837170987, 8...</td>\n",
              "      <td>[40, 46, 1191, 44, 158, 49, 1190, 528, 574, 39...</td>\n",
              "    </tr>\n",
              "    <tr>\n",
              "      <th>3</th>\n",
              "      <td>49747</td>\n",
              "      <td>[1546520504, 1546520514, 1546520519, 154652056...</td>\n",
              "      <td>[162, 51, 175, 109, 1016, 169, 994]</td>\n",
              "    </tr>\n",
              "    <tr>\n",
              "      <th>4</th>\n",
              "      <td>49748</td>\n",
              "      <td>[1476643481, 1476643487, 1476643874, 147664402...</td>\n",
              "      <td>[4957, 29, 10070, 8257, 2160, 18, 432, 9133, 7...</td>\n",
              "    </tr>\n",
              "  </tbody>\n",
              "</table>\n",
              "</div>\n",
              "      <button class=\"colab-df-convert\" onclick=\"convertToInteractive('df-0efd0cd4-30b7-4572-9b51-cf2632d5b2a1')\"\n",
              "              title=\"Convert this dataframe to an interactive table.\"\n",
              "              style=\"display:none;\">\n",
              "        \n",
              "  <svg xmlns=\"http://www.w3.org/2000/svg\" height=\"24px\"viewBox=\"0 0 24 24\"\n",
              "       width=\"24px\">\n",
              "    <path d=\"M0 0h24v24H0V0z\" fill=\"none\"/>\n",
              "    <path d=\"M18.56 5.44l.94 2.06.94-2.06 2.06-.94-2.06-.94-.94-2.06-.94 2.06-2.06.94zm-11 1L8.5 8.5l.94-2.06 2.06-.94-2.06-.94L8.5 2.5l-.94 2.06-2.06.94zm10 10l.94 2.06.94-2.06 2.06-.94-2.06-.94-.94-2.06-.94 2.06-2.06.94z\"/><path d=\"M17.41 7.96l-1.37-1.37c-.4-.4-.92-.59-1.43-.59-.52 0-1.04.2-1.43.59L10.3 9.45l-7.72 7.72c-.78.78-.78 2.05 0 2.83L4 21.41c.39.39.9.59 1.41.59.51 0 1.02-.2 1.41-.59l7.78-7.78 2.81-2.81c.8-.78.8-2.07 0-2.86zM5.41 20L4 18.59l7.72-7.72 1.47 1.35L5.41 20z\"/>\n",
              "  </svg>\n",
              "      </button>\n",
              "      \n",
              "  <style>\n",
              "    .colab-df-container {\n",
              "      display:flex;\n",
              "      flex-wrap:wrap;\n",
              "      gap: 12px;\n",
              "    }\n",
              "\n",
              "    .colab-df-convert {\n",
              "      background-color: #E8F0FE;\n",
              "      border: none;\n",
              "      border-radius: 50%;\n",
              "      cursor: pointer;\n",
              "      display: none;\n",
              "      fill: #1967D2;\n",
              "      height: 32px;\n",
              "      padding: 0 0 0 0;\n",
              "      width: 32px;\n",
              "    }\n",
              "\n",
              "    .colab-df-convert:hover {\n",
              "      background-color: #E2EBFA;\n",
              "      box-shadow: 0px 1px 2px rgba(60, 64, 67, 0.3), 0px 1px 3px 1px rgba(60, 64, 67, 0.15);\n",
              "      fill: #174EA6;\n",
              "    }\n",
              "\n",
              "    [theme=dark] .colab-df-convert {\n",
              "      background-color: #3B4455;\n",
              "      fill: #D2E3FC;\n",
              "    }\n",
              "\n",
              "    [theme=dark] .colab-df-convert:hover {\n",
              "      background-color: #434B5C;\n",
              "      box-shadow: 0px 1px 3px 1px rgba(0, 0, 0, 0.15);\n",
              "      filter: drop-shadow(0px 1px 2px rgba(0, 0, 0, 0.3));\n",
              "      fill: #FFFFFF;\n",
              "    }\n",
              "  </style>\n",
              "\n",
              "      <script>\n",
              "        const buttonEl =\n",
              "          document.querySelector('#df-0efd0cd4-30b7-4572-9b51-cf2632d5b2a1 button.colab-df-convert');\n",
              "        buttonEl.style.display =\n",
              "          google.colab.kernel.accessAllowed ? 'block' : 'none';\n",
              "\n",
              "        async function convertToInteractive(key) {\n",
              "          const element = document.querySelector('#df-0efd0cd4-30b7-4572-9b51-cf2632d5b2a1');\n",
              "          const dataTable =\n",
              "            await google.colab.kernel.invokeFunction('convertToInteractive',\n",
              "                                                     [key], {});\n",
              "          if (!dataTable) return;\n",
              "\n",
              "          const docLinkHtml = 'Like what you see? Visit the ' +\n",
              "            '<a target=\"_blank\" href=https://colab.research.google.com/notebooks/data_table.ipynb>data table notebook</a>'\n",
              "            + ' to learn more about interactive tables.';\n",
              "          element.innerHTML = '';\n",
              "          dataTable['output_type'] = 'display_data';\n",
              "          await google.colab.output.renderOutput(dataTable, element);\n",
              "          const docLink = document.createElement('div');\n",
              "          docLink.innerHTML = docLinkHtml;\n",
              "          element.appendChild(docLink);\n",
              "        }\n",
              "      </script>\n",
              "    </div>\n",
              "  </div>\n",
              "  "
            ]
          },
          "metadata": {},
          "execution_count": 35
        }
      ]
    },
    {
      "cell_type": "code",
      "source": [
        "# minimal length session\n",
        "df['movieIndices'].apply(len).min()"
      ],
      "metadata": {
        "colab": {
          "base_uri": "https://localhost:8080/"
        },
        "id": "DiAwSrAM0qPM",
        "outputId": "033168c7-2399-41ec-9172-af2cdb78cc4a"
      },
      "id": "DiAwSrAM0qPM",
      "execution_count": 36,
      "outputs": [
        {
          "output_type": "execute_result",
          "data": {
            "text/plain": [
              "4"
            ]
          },
          "metadata": {},
          "execution_count": 36
        }
      ]
    },
    {
      "cell_type": "code",
      "execution_count": 37,
      "id": "78f2d31f",
      "metadata": {
        "ExecuteTime": {
          "end_time": "2022-09-06T14:35:59.908817Z",
          "start_time": "2022-09-06T14:35:59.819651Z"
        },
        "hidden": true,
        "scrolled": true,
        "id": "78f2d31f",
        "outputId": "ff8e6cf1-364e-4f59-ec29-981dcdd4f32e",
        "colab": {
          "base_uri": "https://localhost:8080/"
        }
      },
      "outputs": [
        {
          "output_type": "execute_result",
          "data": {
            "text/plain": [
              "49"
            ]
          },
          "metadata": {},
          "execution_count": 37
        }
      ],
      "source": [
        "# maximal length session\n",
        "df['movieIndices'].apply(len).max()"
      ]
    },
    {
      "cell_type": "code",
      "execution_count": 38,
      "id": "d0ce972f",
      "metadata": {
        "ExecuteTime": {
          "end_time": "2022-09-06T14:36:01.009086Z",
          "start_time": "2022-09-06T14:35:59.913932Z"
        },
        "hidden": true,
        "id": "d0ce972f",
        "outputId": "95f611df-dda0-46c6-df27-5db8cd58d671",
        "colab": {
          "base_uri": "https://localhost:8080/"
        }
      },
      "outputs": [
        {
          "output_type": "stream",
          "name": "stdout",
          "text": [
            "40850\n"
          ]
        }
      ],
      "source": [
        "# Number of movies\n",
        "maxMovieIndex = df['movieIndices'].apply(np.max).max()\n",
        "print(maxMovieIndex)"
      ]
    },
    {
      "cell_type": "code",
      "execution_count": 39,
      "id": "ae6e7c98",
      "metadata": {
        "ExecuteTime": {
          "end_time": "2022-09-06T14:36:02.111052Z",
          "start_time": "2022-09-06T14:36:01.010389Z"
        },
        "hidden": true,
        "id": "ae6e7c98",
        "outputId": "c9e2c41b-c736-4d3f-f77a-5370a858d377",
        "colab": {
          "base_uri": "https://localhost:8080/"
        }
      },
      "outputs": [
        {
          "output_type": "stream",
          "name": "stdout",
          "text": [
            "0\n"
          ]
        }
      ],
      "source": [
        "minMovieIndex = df['movieIndices'].apply(np.min).min()\n",
        "print(minMovieIndex)"
      ]
    },
    {
      "cell_type": "code",
      "execution_count": 40,
      "id": "a2c9f934",
      "metadata": {
        "ExecuteTime": {
          "end_time": "2022-09-06T14:35:59.912804Z",
          "start_time": "2022-09-06T14:35:59.909995Z"
        },
        "hidden": true,
        "id": "a2c9f934",
        "outputId": "12e86d07-7255-49b6-b56c-ec2a04939c1f",
        "colab": {
          "base_uri": "https://localhost:8080/"
        }
      },
      "outputs": [
        {
          "output_type": "stream",
          "name": "stdout",
          "text": [
            "40851\n"
          ]
        }
      ],
      "source": [
        "Nmovies = maxMovieIndex - minMovieIndex + 1\n",
        "print(Nmovies)"
      ]
    },
    {
      "cell_type": "markdown",
      "id": "6727e321",
      "metadata": {
        "id": "6727e321"
      },
      "source": [
        "### Train/Val/Test split"
      ]
    },
    {
      "cell_type": "markdown",
      "source": [
        "As we do not encode text but use directly \"movieIndices\" as `input_ids`, many things sould be taken into account:\n",
        "\n",
        "\n",
        "- the \"moviesIndices\" should be shifted by 104 to not mistaken with Bert special tokens\n",
        "\n",
        "\n",
        "- The DataFrame shows that the longest sessions has 49 movies, so we choose `max_length=50` and not `200` as defined in the paper. Thus, all session will left-pad to meet a length of `50`.\n",
        "\n",
        "- As Paper does, we get rid of `token_type_ids`"
      ],
      "metadata": {
        "id": "hk0f4l-2xt7r"
      },
      "id": "hk0f4l-2xt7r"
    },
    {
      "cell_type": "markdown",
      "id": "524e3173",
      "metadata": {
        "id": "524e3173"
      },
      "source": [
        "raw | train | label |\n",
        " --- | --- | --- |\n",
        "[v1, v2, v3, v4, v5, v6, v7] | [\"[PAD]\", \"[PAD]\", v1, v2, v3, v4, v5, v6, v7] | [\"[PAD]\", \"[PAD]\", v1, v2, \"[MASK]\", v4, \"[MASK]\", v6, v7]   \n",
        "\n",
        "raw | val | label |\n",
        " --- | --- | --- |\n",
        "[v1, v2, v3, v4, v5, v6, v7] | [\"[PAD]\", \"[PAD]\", v1, v2, v3, v4, v5, \"[MASK]]\" | v6 \n",
        "\n",
        "\n",
        "raw | test | label |\n",
        " --- | --- | --- |\n",
        "[v1, v2, v3, v4, v5, v6, v7] | [\"[PAD]\", \"[PAD]\", v1, v2, v3, v4, v5, v6, \"[MASK]]\" | v7 \n"
      ]
    },
    {
      "cell_type": "code",
      "execution_count": 7,
      "id": "702b5d8f",
      "metadata": {
        "ExecuteTime": {
          "end_time": "2022-09-06T20:06:33.467329Z",
          "start_time": "2022-09-06T20:06:33.166392Z"
        },
        "id": "702b5d8f"
      },
      "outputs": [],
      "source": [
        "max_length = 50\n",
        "pad_token_id = 0\n",
        "mask_token_id = 103\n",
        "\n",
        "\n",
        "def pad(u, t, m):\n",
        "    att = tf.concat([pad_token_id*tf.ones((2+int(max_length-tf.shape(m)[0]),), dtype=tf.int64), tf.ones_like(m)], axis=0)\n",
        "    # add 104 to movie indices to not mistake with special tokens ids\n",
        "    m   = tf.concat([pad_token_id*tf.ones((2+int(max_length-tf.shape(m)[0]),), dtype=tf.int64), m+104], axis=0)\n",
        "    return att, m\n",
        "\n",
        "def get_train(att, m):\n",
        "    return {\"attention_mask\": att[:-2], \"input_ids\": m[:-2]}\n",
        "\n",
        "def get_val(att, m):\n",
        "    return {\"attention_mask\": att[1:-1], \"input_ids\": tf.experimental.numpy.append(m[1:-2], mask_token_id), \"labels\": m[-2]}\n",
        "\n",
        "def get_test(att, m):\n",
        "    return {\"attention_mask\": att[2:], \"input_ids\": tf.experimental.numpy.append(m[2:-1], mask_token_id), \"labels\": m[-1]}\n",
        "\n",
        "\n",
        "train_dataset = parsed_dataset.map(pad).map(get_train)\n",
        "val_dataset = parsed_dataset.map(pad).map(get_val)\n",
        "test_dataset = parsed_dataset.map(pad).map(get_test)"
      ]
    },
    {
      "cell_type": "code",
      "execution_count": 8,
      "id": "699da4e1",
      "metadata": {
        "ExecuteTime": {
          "end_time": "2022-09-06T20:06:34.998347Z",
          "start_time": "2022-09-06T20:06:34.930802Z"
        },
        "id": "699da4e1",
        "outputId": "6100eac0-c25e-4b69-acb5-544105f8feeb",
        "colab": {
          "base_uri": "https://localhost:8080/"
        }
      },
      "outputs": [
        {
          "output_type": "stream",
          "name": "stdout",
          "text": [
            "{'attention_mask': <tf.Tensor: shape=(50,), dtype=int64, numpy=\n",
            "array([0, 0, 0, 0, 0, 0, 0, 0, 0, 0, 0, 0, 0, 0, 0, 0, 0, 0, 0, 0, 0, 0,\n",
            "       0, 0, 0, 0, 0, 0, 0, 0, 0, 0, 0, 0, 0, 0, 0, 0, 0, 0, 0, 0, 0, 0,\n",
            "       0, 1, 1, 1, 1, 1])>, 'input_ids': <tf.Tensor: shape=(50,), dtype=int64, numpy=\n",
            "array([   0,    0,    0,    0,    0,    0,    0,    0,    0,    0,    0,\n",
            "          0,    0,    0,    0,    0,    0,    0,    0,    0,    0,    0,\n",
            "          0,    0,    0,    0,    0,    0,    0,    0,    0,    0,    0,\n",
            "          0,    0,    0,    0,    0,    0,    0,    0,    0,    0,    0,\n",
            "          0, 2716,  294, 7884, 1383,  103])>, 'labels': <tf.Tensor: shape=(), dtype=int64, numpy=2697>}\n"
          ]
        }
      ],
      "source": [
        "for el in val_dataset.take(1):\n",
        "    print(el)"
      ]
    },
    {
      "cell_type": "markdown",
      "source": [
        "###  Create Tensorflow tf.Data.Dataset"
      ],
      "metadata": {
        "id": "esGWd-_G9ERp"
      },
      "id": "esGWd-_G9ERp"
    },
    {
      "cell_type": "code",
      "execution_count": 9,
      "id": "37e75b17",
      "metadata": {
        "ExecuteTime": {
          "end_time": "2022-09-06T20:07:43.922321Z",
          "start_time": "2022-09-06T20:06:39.583987Z"
        },
        "id": "37e75b17",
        "outputId": "5fc84b73-1f19-4788-ee7d-d55cc00cdbed",
        "colab": {
          "base_uri": "https://localhost:8080/"
        }
      },
      "outputs": [
        {
          "output_type": "stream",
          "name": "stderr",
          "text": [
            "loop over train set: 324849it [02:16, 2371.30it/s]\n"
          ]
        },
        {
          "output_type": "execute_result",
          "data": {
            "text/plain": [
              "{'input_ids': <tf.Tensor: shape=(50,), dtype=int64, numpy=\n",
              " array([   0,    0,    0,    0,    0,    0,    0,    0,    0,    0,    0,\n",
              "           0,    0,    0,    0,    0,    0,    0,    0,    0,    0,    0,\n",
              "           0,    0,    0,    0,    0,    0,    0,    0,    0,    0,    0,\n",
              "           0,    0,    0,    0,    0,    0,    0,    0,    0,    0,    0,\n",
              "           0,    0, 2716,  294, 7884, 1383])>,\n",
              " 'attention_mask': <tf.Tensor: shape=(50,), dtype=int64, numpy=\n",
              " array([0, 0, 0, 0, 0, 0, 0, 0, 0, 0, 0, 0, 0, 0, 0, 0, 0, 0, 0, 0, 0, 0,\n",
              "        0, 0, 0, 0, 0, 0, 0, 0, 0, 0, 0, 0, 0, 0, 0, 0, 0, 0, 0, 0, 0, 0,\n",
              "        0, 0, 1, 1, 1, 1])>}"
            ]
          },
          "metadata": {},
          "execution_count": 9
        }
      ],
      "source": [
        "train_input_ids = []\n",
        "train_attention_mask = []\n",
        "for el in tqdm(train_dataset, \"loop over train set\"):\n",
        "    train_input_ids.append(el['input_ids'].numpy())\n",
        "    train_attention_mask.append(el['attention_mask'].numpy())\n",
        "ds_train_ = Dataset.from_dict({\"input_ids\": train_input_ids,\n",
        "                              \"attention_mask\": train_attention_mask})\n",
        "ds_train = ds_train_.with_format(\"tf\")\n",
        "ds_train[0]"
      ]
    },
    {
      "cell_type": "code",
      "execution_count": 10,
      "id": "52d2fc51",
      "metadata": {
        "ExecuteTime": {
          "start_time": "2022-09-06T20:06:45.447Z"
        },
        "scrolled": true,
        "id": "52d2fc51",
        "outputId": "5d067aad-31ae-45f0-ff1f-88da7e401d45",
        "colab": {
          "base_uri": "https://localhost:8080/"
        }
      },
      "outputs": [
        {
          "output_type": "stream",
          "name": "stderr",
          "text": [
            "loop over validation set: 324849it [02:21, 2288.56it/s]\n"
          ]
        },
        {
          "output_type": "execute_result",
          "data": {
            "text/plain": [
              "{'input_ids': <tf.Tensor: shape=(50,), dtype=int64, numpy=\n",
              " array([   0,    0,    0,    0,    0,    0,    0,    0,    0,    0,    0,\n",
              "           0,    0,    0,    0,    0,    0,    0,    0,    0,    0,    0,\n",
              "           0,    0,    0,    0,    0,    0,    0,    0,    0,    0,    0,\n",
              "           0,    0,    0,    0,    0,    0,    0,    0,    0,    0,    0,\n",
              "           0, 2716,  294, 7884, 1383,  103])>,\n",
              " 'attention_mask': <tf.Tensor: shape=(50,), dtype=int64, numpy=\n",
              " array([0, 0, 0, 0, 0, 0, 0, 0, 0, 0, 0, 0, 0, 0, 0, 0, 0, 0, 0, 0, 0, 0,\n",
              "        0, 0, 0, 0, 0, 0, 0, 0, 0, 0, 0, 0, 0, 0, 0, 0, 0, 0, 0, 0, 0, 0,\n",
              "        0, 1, 1, 1, 1, 1])>}"
            ]
          },
          "metadata": {},
          "execution_count": 10
        }
      ],
      "source": [
        "val_input_ids = []\n",
        "val_attention_mask = []\n",
        "val_labels = []\n",
        "for el in tqdm(val_dataset, \"loop over validation set\"):\n",
        "    val_input_ids.append(el['input_ids'].numpy())\n",
        "    val_attention_mask.append(el['attention_mask'].numpy())\n",
        "    val_labels.append(el['labels'].numpy())\n",
        "ds_val_ = Dataset.from_dict({\"input_ids\": val_input_ids,\n",
        "                            \"attention_mask\": val_attention_mask})\n",
        "ds_val = ds_val_.with_format(\"tf\")\n",
        "ds_val[0]"
      ]
    },
    {
      "cell_type": "code",
      "execution_count": 11,
      "id": "fb545b65",
      "metadata": {
        "ExecuteTime": {
          "start_time": "2022-09-06T20:06:51.085Z"
        },
        "id": "fb545b65",
        "colab": {
          "base_uri": "https://localhost:8080/"
        },
        "outputId": "d9915071-573b-4a5f-a13c-dbcca975dba2"
      },
      "outputs": [
        {
          "output_type": "stream",
          "name": "stderr",
          "text": [
            "loop over test set: 324849it [02:21, 2288.56it/s]\n"
          ]
        },
        {
          "output_type": "execute_result",
          "data": {
            "text/plain": [
              "{'input_ids': <tf.Tensor: shape=(50,), dtype=int64, numpy=\n",
              " array([   0,    0,    0,    0,    0,    0,    0,    0,    0,    0,    0,\n",
              "           0,    0,    0,    0,    0,    0,    0,    0,    0,    0,    0,\n",
              "           0,    0,    0,    0,    0,    0,    0,    0,    0,    0,    0,\n",
              "           0,    0,    0,    0,    0,    0,    0,    0,    0,    0,    0,\n",
              "        2716,  294, 7884, 1383, 2697,  103])>,\n",
              " 'attention_mask': <tf.Tensor: shape=(50,), dtype=int64, numpy=\n",
              " array([0, 0, 0, 0, 0, 0, 0, 0, 0, 0, 0, 0, 0, 0, 0, 0, 0, 0, 0, 0, 0, 0,\n",
              "        0, 0, 0, 0, 0, 0, 0, 0, 0, 0, 0, 0, 0, 0, 0, 0, 0, 0, 0, 0, 0, 0,\n",
              "        1, 1, 1, 1, 1, 1])>}"
            ]
          },
          "metadata": {},
          "execution_count": 11
        }
      ],
      "source": [
        "test_input_ids = []\n",
        "test_attention_mask = []\n",
        "test_labels = []\n",
        "for el in tqdm(test_dataset, \"loop over test set\"):\n",
        "    test_input_ids.append(el['input_ids'].numpy())\n",
        "    test_attention_mask.append(el['attention_mask'].numpy())\n",
        "    test_labels.append(el['labels'].numpy())\n",
        "ds_test_ = Dataset.from_dict({\"input_ids\": test_input_ids,\n",
        "                             \"attention_mask\": test_attention_mask})\n",
        "ds_test = ds_test_.with_format(\"tf\")\n",
        "ds_test[0]"
      ]
    },
    {
      "cell_type": "code",
      "execution_count": 12,
      "id": "2fe5536a",
      "metadata": {
        "ExecuteTime": {
          "start_time": "2022-09-06T20:06:56.334Z"
        },
        "id": "2fe5536a",
        "colab": {
          "base_uri": "https://localhost:8080/",
          "height": 200,
          "referenced_widgets": [
            "83023373772147b0930e1425043b9c13",
            "0cf2a727f77347d2aec4662fcf6c2c79",
            "f165e344e9554e249cf9309e5e00bf84",
            "a06c14d3a99e40c2aa90d9de6bca2d06",
            "7b30efc3205040f6bbfd05a5afe5d950",
            "370ccb62c6094b7b81cff998158f9f53",
            "e11f40f66c6c41309ea2c43ef8b18c15",
            "8f9a19e6893e428db73527007368dfef",
            "f4787bb22d864122af2980c36c652e09",
            "9c30df30c54c4c609636b48ca4881cb1",
            "0e87fc9b001f4979aa5e3a5c4b9c87fa",
            "2ec587778df54ae0ba1523092e633e66",
            "7374f4ac4d844031951157c16f335071",
            "b5bf02d834414fc3a15952b848ae1b4e",
            "bc31d912d69e4b3787a51b2140a0021e",
            "2a3dca63235f429badbf2a088d66c37b",
            "8d0abcbd47af49efb5d6c179b6e36915",
            "1519257b617540b1a05b5d43f0a1760b",
            "025330f7f8df4bda9d36d70dce599884",
            "60b714f7d1fe4cc09c9d06b971177c4c",
            "90ed25206ad744efbc195e27df85f12b",
            "09b57b2bf32f442b824716279df39f55",
            "3813da3fa90e4e98b3fa56342c5bcfdc",
            "9680119c3c454fb7adf36005ea4e1d38",
            "38a20e7ca6054f43891b1205e73db358",
            "9d1cd116f8234f71bbadf454b640f75a",
            "9ec5fdc7d4384c51849cb9a2a5b0f3fd",
            "aa6c48c2971441d6995e08435a484efb",
            "49bb79c138b0456194447ca904242549",
            "2df9abd9d44f49448a1b049e7bba53bf",
            "186890d660684bcda99bdc73c363378e",
            "1fb02d67fddb4bde9929a04057f10f2d",
            "976ef4a7402c4332a70f3fd946462873"
          ]
        },
        "outputId": "c5217ccd-fe7d-4ea4-a91b-5f453b40dbae"
      },
      "outputs": [
        {
          "output_type": "display_data",
          "data": {
            "text/plain": [
              "Downloading vocab.txt:   0%|          | 0.00/208k [00:00<?, ?B/s]"
            ],
            "application/vnd.jupyter.widget-view+json": {
              "version_major": 2,
              "version_minor": 0,
              "model_id": "83023373772147b0930e1425043b9c13"
            }
          },
          "metadata": {}
        },
        {
          "output_type": "display_data",
          "data": {
            "text/plain": [
              "Downloading tokenizer_config.json:   0%|          | 0.00/29.0 [00:00<?, ?B/s]"
            ],
            "application/vnd.jupyter.widget-view+json": {
              "version_major": 2,
              "version_minor": 0,
              "model_id": "2ec587778df54ae0ba1523092e633e66"
            }
          },
          "metadata": {}
        },
        {
          "output_type": "display_data",
          "data": {
            "text/plain": [
              "Downloading config.json:   0%|          | 0.00/762 [00:00<?, ?B/s]"
            ],
            "application/vnd.jupyter.widget-view+json": {
              "version_major": 2,
              "version_minor": 0,
              "model_id": "3813da3fa90e4e98b3fa56342c5bcfdc"
            }
          },
          "metadata": {}
        },
        {
          "output_type": "stream",
          "name": "stdout",
          "text": [
            "0\n",
            "100\n",
            "101\n",
            "102\n",
            "103\n"
          ]
        }
      ],
      "source": [
        "# Get a tokenizer to benefit from DataCollector dedicated to MLM\n",
        "tokenizer = BertTokenizer.from_pretrained('bert-large-cased')\n",
        "print(tokenizer.pad_token_id)\n",
        "print(tokenizer.unk_token_id)\n",
        "print(tokenizer.cls_token_id)\n",
        "print(tokenizer.sep_token_id)\n",
        "print(tokenizer.mask_token_id)"
      ]
    },
    {
      "cell_type": "code",
      "execution_count": 13,
      "id": "42914610",
      "metadata": {
        "ExecuteTime": {
          "start_time": "2022-09-06T20:06:57.444Z"
        },
        "id": "42914610",
        "colab": {
          "base_uri": "https://localhost:8080/"
        },
        "outputId": "fcac05d6-cdc7-4978-eae7-1c0e2d031a66"
      },
      "outputs": [
        {
          "output_type": "execute_result",
          "data": {
            "text/plain": [
              "0"
            ]
          },
          "metadata": {},
          "execution_count": 13
        }
      ],
      "source": [
        "data_collator = DataCollatorForLanguageModeling(tokenizer=tokenizer, mlm_probability=0.4, return_tensors=\"tf\")\n",
        "tokenizer.add_special_tokens({'pad_token': '[PAD]'})"
      ]
    },
    {
      "cell_type": "code",
      "execution_count": 14,
      "id": "44e1a264",
      "metadata": {
        "ExecuteTime": {
          "start_time": "2022-09-06T20:06:59.328Z"
        },
        "id": "44e1a264"
      },
      "outputs": [],
      "source": [
        "batch_size=256\n",
        "\n",
        "tf_train_set = ds_train.to_tf_dataset(\n",
        "    columns=[\"attention_mask\", \"input_ids\"],\n",
        "    shuffle=True,\n",
        "    batch_size=batch_size,\n",
        "    collate_fn=data_collator,\n",
        ")\n",
        "\n",
        "tf_val_set = ds_val.to_tf_dataset(\n",
        "    columns=[\"attention_mask\", \"input_ids\"],\n",
        "    shuffle=True,\n",
        "    batch_size=32,\n",
        "    collate_fn=data_collator,\n",
        ")\n",
        "\n",
        "tf_test_set = ds_test.to_tf_dataset(\n",
        "    columns=[\"attention_mask\", \"input_ids\"],\n",
        "    shuffle=True,\n",
        "    batch_size=32,\n",
        "    collate_fn=data_collator,\n",
        ")"
      ]
    },
    {
      "cell_type": "code",
      "execution_count": 15,
      "id": "d3b36b61",
      "metadata": {
        "ExecuteTime": {
          "start_time": "2022-09-06T20:07:00.809Z"
        },
        "id": "d3b36b61",
        "colab": {
          "base_uri": "https://localhost:8080/"
        },
        "outputId": "df132f44-39fc-4719-b945-dc50c453903c"
      },
      "outputs": [
        {
          "output_type": "stream",
          "name": "stdout",
          "text": [
            "(32, 50)\n",
            "(32, 50)\n"
          ]
        }
      ],
      "source": [
        "# verify that you can batch over the tf.Data.Dataset\n",
        "for el in tf_test_set.take(2):\n",
        "    print(el['input_ids'].shape)"
      ]
    },
    {
      "cell_type": "markdown",
      "id": "c1c279c1",
      "metadata": {
        "id": "c1c279c1"
      },
      "source": [
        "## Model"
      ]
    },
    {
      "cell_type": "code",
      "execution_count": 16,
      "id": "ecd1feee",
      "metadata": {
        "ExecuteTime": {
          "start_time": "2022-09-06T20:07:03.795Z"
        },
        "id": "ecd1feee"
      },
      "outputs": [],
      "source": [
        "bert_config = BertConfig(vocab_size=40851+104, # number of movies after shifting\n",
        "                         max_position_embeddings=max_length,\n",
        "                         hidden_size=32,\n",
        "                         intermediate_size=32,\n",
        "                         num_hidden_layers=2,\n",
        "                         num_attention_heads=2)"
      ]
    },
    {
      "cell_type": "code",
      "execution_count": 17,
      "id": "eff475d7",
      "metadata": {
        "ExecuteTime": {
          "start_time": "2022-09-06T20:07:06.045Z"
        },
        "id": "eff475d7"
      },
      "outputs": [],
      "source": [
        "bert_for_maskedlm = TFBertForMaskedLM(bert_config)"
      ]
    },
    {
      "cell_type": "code",
      "execution_count": 18,
      "id": "9ac79317",
      "metadata": {
        "ExecuteTime": {
          "start_time": "2022-09-06T20:07:07.280Z"
        },
        "id": "9ac79317"
      },
      "outputs": [],
      "source": [
        "optimizer = AdamWeightDecay(learning_rate=1e-4,\n",
        "                            beta_1=0.9,\n",
        "                            beta_2=0.999,\n",
        "                            weight_decay_rate=0.01,\n",
        "                            clipnorm=np.sqrt(5))"
      ]
    },
    {
      "cell_type": "code",
      "execution_count": null,
      "id": "515d6d05",
      "metadata": {
        "ExecuteTime": {
          "start_time": "2022-09-06T20:07:08.466Z"
        },
        "id": "515d6d05",
        "colab": {
          "base_uri": "https://localhost:8080/"
        },
        "outputId": "f4279298-2f20-4bcc-8966-e4ec8e39cc33"
      },
      "outputs": [
        {
          "output_type": "stream",
          "name": "stderr",
          "text": [
            "No loss specified in compile() - the model's internal loss computation will be used as the loss. Don't panic - this is a common way to train TensorFlow models in Transformers! To disable this behaviour please pass a loss argument, or explicitly pass `loss=None` if you do not want your model to compute a loss.\n"
          ]
        }
      ],
      "source": [
        "bert_for_maskedlm.compile(optimizer=optimizer)"
      ]
    },
    {
      "cell_type": "code",
      "execution_count": null,
      "id": "70247c03",
      "metadata": {
        "ExecuteTime": {
          "start_time": "2022-09-06T20:07:21.646Z"
        },
        "id": "70247c03",
        "colab": {
          "base_uri": "https://localhost:8080/"
        },
        "outputId": "ae71ece4-6b65-449a-842f-b67dc2e165b4"
      },
      "outputs": [
        {
          "output_type": "stream",
          "name": "stdout",
          "text": [
            "Epoch 1/10\n",
            "1269/1269 [==============================] - 291s 220ms/step - loss: 8.6200\n",
            "Epoch 2/10\n",
            "1269/1269 [==============================] - 280s 220ms/step - loss: 7.5685\n",
            "Epoch 3/10\n",
            "1269/1269 [==============================] - 280s 220ms/step - loss: 7.3396\n",
            "Epoch 4/10\n",
            "1269/1269 [==============================] - 280s 220ms/step - loss: 7.1028\n",
            "Epoch 5/10\n",
            "1269/1269 [==============================] - 279s 220ms/step - loss: 6.8418\n",
            "Epoch 6/10\n",
            "1269/1269 [==============================] - 280s 220ms/step - loss: 6.6169\n",
            "Epoch 7/10\n",
            "1269/1269 [==============================] - 280s 220ms/step - loss: 6.4554\n",
            "Epoch 8/10\n",
            "1269/1269 [==============================] - 280s 220ms/step - loss: 6.3306\n",
            "Epoch 9/10\n",
            "1269/1269 [==============================] - 279s 220ms/step - loss: 6.2247\n",
            "Epoch 10/10\n",
            "1269/1269 [==============================] - 280s 220ms/step - loss: 6.1446\n"
          ]
        },
        {
          "output_type": "execute_result",
          "data": {
            "text/plain": [
              "<keras.callbacks.History at 0x7f0ef36bffd0>"
            ]
          },
          "metadata": {},
          "execution_count": 21
        }
      ],
      "source": [
        "bert_for_maskedlm.fit(x=tf_train_set, epochs=10)"
      ]
    },
    {
      "cell_type": "code",
      "execution_count": null,
      "id": "dbc5e644",
      "metadata": {
        "ExecuteTime": {
          "start_time": "2022-09-06T20:07:47.382Z"
        },
        "id": "dbc5e644"
      },
      "outputs": [],
      "source": [
        "bert_for_maskedlm.save_pretrained('/content/drive/MyDrive/Bert4Rec/Bert4Rec')"
      ]
    },
    {
      "cell_type": "markdown",
      "id": "4eaaaec4",
      "metadata": {
        "id": "4eaaaec4"
      },
      "source": [
        "## Evaluation"
      ]
    },
    {
      "cell_type": "code",
      "execution_count": 19,
      "id": "9563e0d5",
      "metadata": {
        "ExecuteTime": {
          "end_time": "2022-09-06T19:05:18.300413Z",
          "start_time": "2022-09-06T19:05:18.165982Z"
        },
        "id": "9563e0d5",
        "outputId": "8bab34bb-7b92-4058-eb10-3ed9ccd51bee",
        "colab": {
          "base_uri": "https://localhost:8080/"
        }
      },
      "outputs": [
        {
          "output_type": "stream",
          "name": "stderr",
          "text": [
            "All model checkpoint layers were used when initializing TFBertForMaskedLM.\n",
            "\n",
            "All the layers of TFBertForMaskedLM were initialized from the model checkpoint at /content/drive/MyDrive/Bert4Rec/Bert4Rec.\n",
            "If your task is similar to the task the model of the checkpoint was trained on, you can already use TFBertForMaskedLM for predictions without further training.\n"
          ]
        }
      ],
      "source": [
        "model = TFBertForMaskedLM.from_pretrained('/content/drive/MyDrive/Bert4Rec/Bert4Rec')"
      ]
    },
    {
      "cell_type": "code",
      "execution_count": null,
      "id": "e5c9b65f",
      "metadata": {
        "ExecuteTime": {
          "end_time": "2022-09-06T19:05:52.380407Z",
          "start_time": "2022-09-06T19:05:39.779050Z"
        },
        "id": "e5c9b65f",
        "colab": {
          "base_uri": "https://localhost:8080/"
        },
        "outputId": "ad311326-f785-4f95-9312-0b09d652de06"
      },
      "outputs": [
        {
          "output_type": "stream",
          "name": "stderr",
          "text": [
            "predict on val set:   4%|▍         | 396/10152 [07:33<2:37:32,  1.03it/s]"
          ]
        }
      ],
      "source": [
        "val_top10_movies = []\n",
        "for batch in tqdm(tf_val_set, \"predict on val set\"):\n",
        "  logits = model.predict(batch)['logits'][:,-1,:] # keep only last token (the masked one) logits\n",
        "  val_top10_movies.append(tf.math.top_k(logits, 10).indices)\n",
        "val_top10_movies = tf.concat(val_top10_movies, axis=0)\n",
        "  "
      ]
    },
    {
      "cell_type": "code",
      "source": [
        "test_top10_movies = []\n",
        "for batch in tqdm(tf_test_set, \"predict on test set\"):\n",
        "  logits = model.predict(batch)['logits'][:,-1,:] # keep only last token  (the masked one) logits\n",
        "  test_top10_movies.append(tf.math.top_k(logits, 10).indices)\n",
        "test_top10_movies = tf.concat(test_top10_movies, axis=0)"
      ],
      "metadata": {
        "id": "N7dkvO6_IXeZ"
      },
      "id": "N7dkvO6_IXeZ",
      "execution_count": null,
      "outputs": []
    },
    {
      "cell_type": "code",
      "execution_count": 63,
      "id": "5d3a882e",
      "metadata": {
        "ExecuteTime": {
          "end_time": "2022-09-06T20:03:50.518281Z",
          "start_time": "2022-09-06T20:03:50.514099Z"
        },
        "id": "5d3a882e"
      },
      "outputs": [],
      "source": [
        "def compute_HRk(gt_movies, top10movies, k):\n",
        "  \"\"\"Compute Hit Ratio_{k} metric\n",
        "\n",
        "     Arguments:\n",
        "       labels (`tf.tensor`): 1-D tensor of all movieIndices to predict for each session (dim=(nbSessions,))\n",
        "       top10movies (`tf.tensor`): 2-D tensor of 10 best movieIndices for each session (dim=(nbSessions, 10))\n",
        "       k (int): number of movies for the Hit Ratio metrics (between 1 and 10)\n",
        "  \"\"\"\n",
        "  hits = 0\n",
        "  gt_movies = tf.expand_dims(gt_movies, axis=1) # from flatten (None,) to tensor (None,1)\n",
        "  hits = gt_movies - top10movies[:,:k] # (None,1) - (None, k) : 0 means we hit the gt movie\n",
        "  hits = tf.cast(tf.math.count_nonzero(hits, axis=1)<k, dtype=tf.int32) # hits=(None,1) saying True/False\n",
        "                                                                        # if True, so row contains a zero, so our k first movies\n",
        "                                                                        # hit the gt movie\n",
        "  number_of_hits = tf.math.reduce_sum(hits)\n",
        "  return (number_of_hits/len(top10movies)).numpy()"
      ]  
    },
    {
      "cell_type": "code",
      "source": [
        "print(compute_HRk(val_labels, val_top10_movies, 1))\n",
        "print(compute_HRk(val_labels, val_top10_movies, 5))\n",
        "print(compute_HRk(val_labels, val_top10_movies, 10))"
      ],
      "metadata": {
        "id": "YD43RkGYVBeX"
      },
      "id": "YD43RkGYVBeX",
      "execution_count": null,
      "outputs": []
    },
    {
      "cell_type": "code",
      "source": [
        "print(compute_HRk(test_labels, test_top10_movies, 1))\n",
        "print(compute_HRk(test_labels, test_top10_movies, 5))\n",
        "print(compute_HRk(test_labels, test_top10_movies, 10))"
      ],
      "metadata": {
        "id": "O2R93MxVpSJF"
      },
      "id": "O2R93MxVpSJF",
      "execution_count": null,
      "outputs": []
    }
  ],
  "metadata": {
    "kernelspec": {
      "display_name": "Python 3",
      "language": "python",
      "name": "python3"
    },
    "language_info": {
      "codemirror_mode": {
        "name": "ipython",
        "version": 3
      },
      "file_extension": ".py",
      "mimetype": "text/x-python",
      "name": "python",
      "nbconvert_exporter": "python",
      "pygments_lexer": "ipython3",
      "version": "3.9.4"
    },
    "toc": {
      "base_numbering": 1,
      "nav_menu": {},
      "number_sections": true,
      "sideBar": true,
      "skip_h1_title": false,
      "title_cell": "Table of Contents",
      "title_sidebar": "Contents",
      "toc_cell": false,
      "toc_position": {},
      "toc_section_display": true,
      "toc_window_display": false
    },
    "colab": {
      "provenance": [],
      "collapsed_sections": []
    },
    "accelerator": "GPU",
    "gpuClass": "standard",
    "widgets": {
      "application/vnd.jupyter.widget-state+json": {
        "83023373772147b0930e1425043b9c13": {
          "model_module": "@jupyter-widgets/controls",
          "model_name": "HBoxModel",
          "model_module_version": "1.5.0",
          "state": {
            "_dom_classes": [],
            "_model_module": "@jupyter-widgets/controls",
            "_model_module_version": "1.5.0",
            "_model_name": "HBoxModel",
            "_view_count": null,
            "_view_module": "@jupyter-widgets/controls",
            "_view_module_version": "1.5.0",
            "_view_name": "HBoxView",
            "box_style": "",
            "children": [
              "IPY_MODEL_0cf2a727f77347d2aec4662fcf6c2c79",
              "IPY_MODEL_f165e344e9554e249cf9309e5e00bf84",
              "IPY_MODEL_a06c14d3a99e40c2aa90d9de6bca2d06"
            ],
            "layout": "IPY_MODEL_7b30efc3205040f6bbfd05a5afe5d950"
          }
        },
        "0cf2a727f77347d2aec4662fcf6c2c79": {
          "model_module": "@jupyter-widgets/controls",
          "model_name": "HTMLModel",
          "model_module_version": "1.5.0",
          "state": {
            "_dom_classes": [],
            "_model_module": "@jupyter-widgets/controls",
            "_model_module_version": "1.5.0",
            "_model_name": "HTMLModel",
            "_view_count": null,
            "_view_module": "@jupyter-widgets/controls",
            "_view_module_version": "1.5.0",
            "_view_name": "HTMLView",
            "description": "",
            "description_tooltip": null,
            "layout": "IPY_MODEL_370ccb62c6094b7b81cff998158f9f53",
            "placeholder": "​",
            "style": "IPY_MODEL_e11f40f66c6c41309ea2c43ef8b18c15",
            "value": "Downloading vocab.txt: 100%"
          }
        },
        "f165e344e9554e249cf9309e5e00bf84": {
          "model_module": "@jupyter-widgets/controls",
          "model_name": "FloatProgressModel",
          "model_module_version": "1.5.0",
          "state": {
            "_dom_classes": [],
            "_model_module": "@jupyter-widgets/controls",
            "_model_module_version": "1.5.0",
            "_model_name": "FloatProgressModel",
            "_view_count": null,
            "_view_module": "@jupyter-widgets/controls",
            "_view_module_version": "1.5.0",
            "_view_name": "ProgressView",
            "bar_style": "success",
            "description": "",
            "description_tooltip": null,
            "layout": "IPY_MODEL_8f9a19e6893e428db73527007368dfef",
            "max": 213450,
            "min": 0,
            "orientation": "horizontal",
            "style": "IPY_MODEL_f4787bb22d864122af2980c36c652e09",
            "value": 213450
          }
        },
        "a06c14d3a99e40c2aa90d9de6bca2d06": {
          "model_module": "@jupyter-widgets/controls",
          "model_name": "HTMLModel",
          "model_module_version": "1.5.0",
          "state": {
            "_dom_classes": [],
            "_model_module": "@jupyter-widgets/controls",
            "_model_module_version": "1.5.0",
            "_model_name": "HTMLModel",
            "_view_count": null,
            "_view_module": "@jupyter-widgets/controls",
            "_view_module_version": "1.5.0",
            "_view_name": "HTMLView",
            "description": "",
            "description_tooltip": null,
            "layout": "IPY_MODEL_9c30df30c54c4c609636b48ca4881cb1",
            "placeholder": "​",
            "style": "IPY_MODEL_0e87fc9b001f4979aa5e3a5c4b9c87fa",
            "value": " 208k/208k [00:00&lt;00:00, 675kB/s]"
          }
        },
        "7b30efc3205040f6bbfd05a5afe5d950": {
          "model_module": "@jupyter-widgets/base",
          "model_name": "LayoutModel",
          "model_module_version": "1.2.0",
          "state": {
            "_model_module": "@jupyter-widgets/base",
            "_model_module_version": "1.2.0",
            "_model_name": "LayoutModel",
            "_view_count": null,
            "_view_module": "@jupyter-widgets/base",
            "_view_module_version": "1.2.0",
            "_view_name": "LayoutView",
            "align_content": null,
            "align_items": null,
            "align_self": null,
            "border": null,
            "bottom": null,
            "display": null,
            "flex": null,
            "flex_flow": null,
            "grid_area": null,
            "grid_auto_columns": null,
            "grid_auto_flow": null,
            "grid_auto_rows": null,
            "grid_column": null,
            "grid_gap": null,
            "grid_row": null,
            "grid_template_areas": null,
            "grid_template_columns": null,
            "grid_template_rows": null,
            "height": null,
            "justify_content": null,
            "justify_items": null,
            "left": null,
            "margin": null,
            "max_height": null,
            "max_width": null,
            "min_height": null,
            "min_width": null,
            "object_fit": null,
            "object_position": null,
            "order": null,
            "overflow": null,
            "overflow_x": null,
            "overflow_y": null,
            "padding": null,
            "right": null,
            "top": null,
            "visibility": null,
            "width": null
          }
        },
        "370ccb62c6094b7b81cff998158f9f53": {
          "model_module": "@jupyter-widgets/base",
          "model_name": "LayoutModel",
          "model_module_version": "1.2.0",
          "state": {
            "_model_module": "@jupyter-widgets/base",
            "_model_module_version": "1.2.0",
            "_model_name": "LayoutModel",
            "_view_count": null,
            "_view_module": "@jupyter-widgets/base",
            "_view_module_version": "1.2.0",
            "_view_name": "LayoutView",
            "align_content": null,
            "align_items": null,
            "align_self": null,
            "border": null,
            "bottom": null,
            "display": null,
            "flex": null,
            "flex_flow": null,
            "grid_area": null,
            "grid_auto_columns": null,
            "grid_auto_flow": null,
            "grid_auto_rows": null,
            "grid_column": null,
            "grid_gap": null,
            "grid_row": null,
            "grid_template_areas": null,
            "grid_template_columns": null,
            "grid_template_rows": null,
            "height": null,
            "justify_content": null,
            "justify_items": null,
            "left": null,
            "margin": null,
            "max_height": null,
            "max_width": null,
            "min_height": null,
            "min_width": null,
            "object_fit": null,
            "object_position": null,
            "order": null,
            "overflow": null,
            "overflow_x": null,
            "overflow_y": null,
            "padding": null,
            "right": null,
            "top": null,
            "visibility": null,
            "width": null
          }
        },
        "e11f40f66c6c41309ea2c43ef8b18c15": {
          "model_module": "@jupyter-widgets/controls",
          "model_name": "DescriptionStyleModel",
          "model_module_version": "1.5.0",
          "state": {
            "_model_module": "@jupyter-widgets/controls",
            "_model_module_version": "1.5.0",
            "_model_name": "DescriptionStyleModel",
            "_view_count": null,
            "_view_module": "@jupyter-widgets/base",
            "_view_module_version": "1.2.0",
            "_view_name": "StyleView",
            "description_width": ""
          }
        },
        "8f9a19e6893e428db73527007368dfef": {
          "model_module": "@jupyter-widgets/base",
          "model_name": "LayoutModel",
          "model_module_version": "1.2.0",
          "state": {
            "_model_module": "@jupyter-widgets/base",
            "_model_module_version": "1.2.0",
            "_model_name": "LayoutModel",
            "_view_count": null,
            "_view_module": "@jupyter-widgets/base",
            "_view_module_version": "1.2.0",
            "_view_name": "LayoutView",
            "align_content": null,
            "align_items": null,
            "align_self": null,
            "border": null,
            "bottom": null,
            "display": null,
            "flex": null,
            "flex_flow": null,
            "grid_area": null,
            "grid_auto_columns": null,
            "grid_auto_flow": null,
            "grid_auto_rows": null,
            "grid_column": null,
            "grid_gap": null,
            "grid_row": null,
            "grid_template_areas": null,
            "grid_template_columns": null,
            "grid_template_rows": null,
            "height": null,
            "justify_content": null,
            "justify_items": null,
            "left": null,
            "margin": null,
            "max_height": null,
            "max_width": null,
            "min_height": null,
            "min_width": null,
            "object_fit": null,
            "object_position": null,
            "order": null,
            "overflow": null,
            "overflow_x": null,
            "overflow_y": null,
            "padding": null,
            "right": null,
            "top": null,
            "visibility": null,
            "width": null
          }
        },
        "f4787bb22d864122af2980c36c652e09": {
          "model_module": "@jupyter-widgets/controls",
          "model_name": "ProgressStyleModel",
          "model_module_version": "1.5.0",
          "state": {
            "_model_module": "@jupyter-widgets/controls",
            "_model_module_version": "1.5.0",
            "_model_name": "ProgressStyleModel",
            "_view_count": null,
            "_view_module": "@jupyter-widgets/base",
            "_view_module_version": "1.2.0",
            "_view_name": "StyleView",
            "bar_color": null,
            "description_width": ""
          }
        },
        "9c30df30c54c4c609636b48ca4881cb1": {
          "model_module": "@jupyter-widgets/base",
          "model_name": "LayoutModel",
          "model_module_version": "1.2.0",
          "state": {
            "_model_module": "@jupyter-widgets/base",
            "_model_module_version": "1.2.0",
            "_model_name": "LayoutModel",
            "_view_count": null,
            "_view_module": "@jupyter-widgets/base",
            "_view_module_version": "1.2.0",
            "_view_name": "LayoutView",
            "align_content": null,
            "align_items": null,
            "align_self": null,
            "border": null,
            "bottom": null,
            "display": null,
            "flex": null,
            "flex_flow": null,
            "grid_area": null,
            "grid_auto_columns": null,
            "grid_auto_flow": null,
            "grid_auto_rows": null,
            "grid_column": null,
            "grid_gap": null,
            "grid_row": null,
            "grid_template_areas": null,
            "grid_template_columns": null,
            "grid_template_rows": null,
            "height": null,
            "justify_content": null,
            "justify_items": null,
            "left": null,
            "margin": null,
            "max_height": null,
            "max_width": null,
            "min_height": null,
            "min_width": null,
            "object_fit": null,
            "object_position": null,
            "order": null,
            "overflow": null,
            "overflow_x": null,
            "overflow_y": null,
            "padding": null,
            "right": null,
            "top": null,
            "visibility": null,
            "width": null
          }
        },
        "0e87fc9b001f4979aa5e3a5c4b9c87fa": {
          "model_module": "@jupyter-widgets/controls",
          "model_name": "DescriptionStyleModel",
          "model_module_version": "1.5.0",
          "state": {
            "_model_module": "@jupyter-widgets/controls",
            "_model_module_version": "1.5.0",
            "_model_name": "DescriptionStyleModel",
            "_view_count": null,
            "_view_module": "@jupyter-widgets/base",
            "_view_module_version": "1.2.0",
            "_view_name": "StyleView",
            "description_width": ""
          }
        },
        "2ec587778df54ae0ba1523092e633e66": {
          "model_module": "@jupyter-widgets/controls",
          "model_name": "HBoxModel",
          "model_module_version": "1.5.0",
          "state": {
            "_dom_classes": [],
            "_model_module": "@jupyter-widgets/controls",
            "_model_module_version": "1.5.0",
            "_model_name": "HBoxModel",
            "_view_count": null,
            "_view_module": "@jupyter-widgets/controls",
            "_view_module_version": "1.5.0",
            "_view_name": "HBoxView",
            "box_style": "",
            "children": [
              "IPY_MODEL_7374f4ac4d844031951157c16f335071",
              "IPY_MODEL_b5bf02d834414fc3a15952b848ae1b4e",
              "IPY_MODEL_bc31d912d69e4b3787a51b2140a0021e"
            ],
            "layout": "IPY_MODEL_2a3dca63235f429badbf2a088d66c37b"
          }
        },
        "7374f4ac4d844031951157c16f335071": {
          "model_module": "@jupyter-widgets/controls",
          "model_name": "HTMLModel",
          "model_module_version": "1.5.0",
          "state": {
            "_dom_classes": [],
            "_model_module": "@jupyter-widgets/controls",
            "_model_module_version": "1.5.0",
            "_model_name": "HTMLModel",
            "_view_count": null,
            "_view_module": "@jupyter-widgets/controls",
            "_view_module_version": "1.5.0",
            "_view_name": "HTMLView",
            "description": "",
            "description_tooltip": null,
            "layout": "IPY_MODEL_8d0abcbd47af49efb5d6c179b6e36915",
            "placeholder": "​",
            "style": "IPY_MODEL_1519257b617540b1a05b5d43f0a1760b",
            "value": "Downloading tokenizer_config.json: 100%"
          }
        },
        "b5bf02d834414fc3a15952b848ae1b4e": {
          "model_module": "@jupyter-widgets/controls",
          "model_name": "FloatProgressModel",
          "model_module_version": "1.5.0",
          "state": {
            "_dom_classes": [],
            "_model_module": "@jupyter-widgets/controls",
            "_model_module_version": "1.5.0",
            "_model_name": "FloatProgressModel",
            "_view_count": null,
            "_view_module": "@jupyter-widgets/controls",
            "_view_module_version": "1.5.0",
            "_view_name": "ProgressView",
            "bar_style": "success",
            "description": "",
            "description_tooltip": null,
            "layout": "IPY_MODEL_025330f7f8df4bda9d36d70dce599884",
            "max": 29,
            "min": 0,
            "orientation": "horizontal",
            "style": "IPY_MODEL_60b714f7d1fe4cc09c9d06b971177c4c",
            "value": 29
          }
        },
        "bc31d912d69e4b3787a51b2140a0021e": {
          "model_module": "@jupyter-widgets/controls",
          "model_name": "HTMLModel",
          "model_module_version": "1.5.0",
          "state": {
            "_dom_classes": [],
            "_model_module": "@jupyter-widgets/controls",
            "_model_module_version": "1.5.0",
            "_model_name": "HTMLModel",
            "_view_count": null,
            "_view_module": "@jupyter-widgets/controls",
            "_view_module_version": "1.5.0",
            "_view_name": "HTMLView",
            "description": "",
            "description_tooltip": null,
            "layout": "IPY_MODEL_90ed25206ad744efbc195e27df85f12b",
            "placeholder": "​",
            "style": "IPY_MODEL_09b57b2bf32f442b824716279df39f55",
            "value": " 29.0/29.0 [00:00&lt;00:00, 675B/s]"
          }
        },
        "2a3dca63235f429badbf2a088d66c37b": {
          "model_module": "@jupyter-widgets/base",
          "model_name": "LayoutModel",
          "model_module_version": "1.2.0",
          "state": {
            "_model_module": "@jupyter-widgets/base",
            "_model_module_version": "1.2.0",
            "_model_name": "LayoutModel",
            "_view_count": null,
            "_view_module": "@jupyter-widgets/base",
            "_view_module_version": "1.2.0",
            "_view_name": "LayoutView",
            "align_content": null,
            "align_items": null,
            "align_self": null,
            "border": null,
            "bottom": null,
            "display": null,
            "flex": null,
            "flex_flow": null,
            "grid_area": null,
            "grid_auto_columns": null,
            "grid_auto_flow": null,
            "grid_auto_rows": null,
            "grid_column": null,
            "grid_gap": null,
            "grid_row": null,
            "grid_template_areas": null,
            "grid_template_columns": null,
            "grid_template_rows": null,
            "height": null,
            "justify_content": null,
            "justify_items": null,
            "left": null,
            "margin": null,
            "max_height": null,
            "max_width": null,
            "min_height": null,
            "min_width": null,
            "object_fit": null,
            "object_position": null,
            "order": null,
            "overflow": null,
            "overflow_x": null,
            "overflow_y": null,
            "padding": null,
            "right": null,
            "top": null,
            "visibility": null,
            "width": null
          }
        },
        "8d0abcbd47af49efb5d6c179b6e36915": {
          "model_module": "@jupyter-widgets/base",
          "model_name": "LayoutModel",
          "model_module_version": "1.2.0",
          "state": {
            "_model_module": "@jupyter-widgets/base",
            "_model_module_version": "1.2.0",
            "_model_name": "LayoutModel",
            "_view_count": null,
            "_view_module": "@jupyter-widgets/base",
            "_view_module_version": "1.2.0",
            "_view_name": "LayoutView",
            "align_content": null,
            "align_items": null,
            "align_self": null,
            "border": null,
            "bottom": null,
            "display": null,
            "flex": null,
            "flex_flow": null,
            "grid_area": null,
            "grid_auto_columns": null,
            "grid_auto_flow": null,
            "grid_auto_rows": null,
            "grid_column": null,
            "grid_gap": null,
            "grid_row": null,
            "grid_template_areas": null,
            "grid_template_columns": null,
            "grid_template_rows": null,
            "height": null,
            "justify_content": null,
            "justify_items": null,
            "left": null,
            "margin": null,
            "max_height": null,
            "max_width": null,
            "min_height": null,
            "min_width": null,
            "object_fit": null,
            "object_position": null,
            "order": null,
            "overflow": null,
            "overflow_x": null,
            "overflow_y": null,
            "padding": null,
            "right": null,
            "top": null,
            "visibility": null,
            "width": null
          }
        },
        "1519257b617540b1a05b5d43f0a1760b": {
          "model_module": "@jupyter-widgets/controls",
          "model_name": "DescriptionStyleModel",
          "model_module_version": "1.5.0",
          "state": {
            "_model_module": "@jupyter-widgets/controls",
            "_model_module_version": "1.5.0",
            "_model_name": "DescriptionStyleModel",
            "_view_count": null,
            "_view_module": "@jupyter-widgets/base",
            "_view_module_version": "1.2.0",
            "_view_name": "StyleView",
            "description_width": ""
          }
        },
        "025330f7f8df4bda9d36d70dce599884": {
          "model_module": "@jupyter-widgets/base",
          "model_name": "LayoutModel",
          "model_module_version": "1.2.0",
          "state": {
            "_model_module": "@jupyter-widgets/base",
            "_model_module_version": "1.2.0",
            "_model_name": "LayoutModel",
            "_view_count": null,
            "_view_module": "@jupyter-widgets/base",
            "_view_module_version": "1.2.0",
            "_view_name": "LayoutView",
            "align_content": null,
            "align_items": null,
            "align_self": null,
            "border": null,
            "bottom": null,
            "display": null,
            "flex": null,
            "flex_flow": null,
            "grid_area": null,
            "grid_auto_columns": null,
            "grid_auto_flow": null,
            "grid_auto_rows": null,
            "grid_column": null,
            "grid_gap": null,
            "grid_row": null,
            "grid_template_areas": null,
            "grid_template_columns": null,
            "grid_template_rows": null,
            "height": null,
            "justify_content": null,
            "justify_items": null,
            "left": null,
            "margin": null,
            "max_height": null,
            "max_width": null,
            "min_height": null,
            "min_width": null,
            "object_fit": null,
            "object_position": null,
            "order": null,
            "overflow": null,
            "overflow_x": null,
            "overflow_y": null,
            "padding": null,
            "right": null,
            "top": null,
            "visibility": null,
            "width": null
          }
        },
        "60b714f7d1fe4cc09c9d06b971177c4c": {
          "model_module": "@jupyter-widgets/controls",
          "model_name": "ProgressStyleModel",
          "model_module_version": "1.5.0",
          "state": {
            "_model_module": "@jupyter-widgets/controls",
            "_model_module_version": "1.5.0",
            "_model_name": "ProgressStyleModel",
            "_view_count": null,
            "_view_module": "@jupyter-widgets/base",
            "_view_module_version": "1.2.0",
            "_view_name": "StyleView",
            "bar_color": null,
            "description_width": ""
          }
        },
        "90ed25206ad744efbc195e27df85f12b": {
          "model_module": "@jupyter-widgets/base",
          "model_name": "LayoutModel",
          "model_module_version": "1.2.0",
          "state": {
            "_model_module": "@jupyter-widgets/base",
            "_model_module_version": "1.2.0",
            "_model_name": "LayoutModel",
            "_view_count": null,
            "_view_module": "@jupyter-widgets/base",
            "_view_module_version": "1.2.0",
            "_view_name": "LayoutView",
            "align_content": null,
            "align_items": null,
            "align_self": null,
            "border": null,
            "bottom": null,
            "display": null,
            "flex": null,
            "flex_flow": null,
            "grid_area": null,
            "grid_auto_columns": null,
            "grid_auto_flow": null,
            "grid_auto_rows": null,
            "grid_column": null,
            "grid_gap": null,
            "grid_row": null,
            "grid_template_areas": null,
            "grid_template_columns": null,
            "grid_template_rows": null,
            "height": null,
            "justify_content": null,
            "justify_items": null,
            "left": null,
            "margin": null,
            "max_height": null,
            "max_width": null,
            "min_height": null,
            "min_width": null,
            "object_fit": null,
            "object_position": null,
            "order": null,
            "overflow": null,
            "overflow_x": null,
            "overflow_y": null,
            "padding": null,
            "right": null,
            "top": null,
            "visibility": null,
            "width": null
          }
        },
        "09b57b2bf32f442b824716279df39f55": {
          "model_module": "@jupyter-widgets/controls",
          "model_name": "DescriptionStyleModel",
          "model_module_version": "1.5.0",
          "state": {
            "_model_module": "@jupyter-widgets/controls",
            "_model_module_version": "1.5.0",
            "_model_name": "DescriptionStyleModel",
            "_view_count": null,
            "_view_module": "@jupyter-widgets/base",
            "_view_module_version": "1.2.0",
            "_view_name": "StyleView",
            "description_width": ""
          }
        },
        "3813da3fa90e4e98b3fa56342c5bcfdc": {
          "model_module": "@jupyter-widgets/controls",
          "model_name": "HBoxModel",
          "model_module_version": "1.5.0",
          "state": {
            "_dom_classes": [],
            "_model_module": "@jupyter-widgets/controls",
            "_model_module_version": "1.5.0",
            "_model_name": "HBoxModel",
            "_view_count": null,
            "_view_module": "@jupyter-widgets/controls",
            "_view_module_version": "1.5.0",
            "_view_name": "HBoxView",
            "box_style": "",
            "children": [
              "IPY_MODEL_9680119c3c454fb7adf36005ea4e1d38",
              "IPY_MODEL_38a20e7ca6054f43891b1205e73db358",
              "IPY_MODEL_9d1cd116f8234f71bbadf454b640f75a"
            ],
            "layout": "IPY_MODEL_9ec5fdc7d4384c51849cb9a2a5b0f3fd"
          }
        },
        "9680119c3c454fb7adf36005ea4e1d38": {
          "model_module": "@jupyter-widgets/controls",
          "model_name": "HTMLModel",
          "model_module_version": "1.5.0",
          "state": {
            "_dom_classes": [],
            "_model_module": "@jupyter-widgets/controls",
            "_model_module_version": "1.5.0",
            "_model_name": "HTMLModel",
            "_view_count": null,
            "_view_module": "@jupyter-widgets/controls",
            "_view_module_version": "1.5.0",
            "_view_name": "HTMLView",
            "description": "",
            "description_tooltip": null,
            "layout": "IPY_MODEL_aa6c48c2971441d6995e08435a484efb",
            "placeholder": "​",
            "style": "IPY_MODEL_49bb79c138b0456194447ca904242549",
            "value": "Downloading config.json: 100%"
          }
        },
        "38a20e7ca6054f43891b1205e73db358": {
          "model_module": "@jupyter-widgets/controls",
          "model_name": "FloatProgressModel",
          "model_module_version": "1.5.0",
          "state": {
            "_dom_classes": [],
            "_model_module": "@jupyter-widgets/controls",
            "_model_module_version": "1.5.0",
            "_model_name": "FloatProgressModel",
            "_view_count": null,
            "_view_module": "@jupyter-widgets/controls",
            "_view_module_version": "1.5.0",
            "_view_name": "ProgressView",
            "bar_style": "success",
            "description": "",
            "description_tooltip": null,
            "layout": "IPY_MODEL_2df9abd9d44f49448a1b049e7bba53bf",
            "max": 762,
            "min": 0,
            "orientation": "horizontal",
            "style": "IPY_MODEL_186890d660684bcda99bdc73c363378e",
            "value": 762
          }
        },
        "9d1cd116f8234f71bbadf454b640f75a": {
          "model_module": "@jupyter-widgets/controls",
          "model_name": "HTMLModel",
          "model_module_version": "1.5.0",
          "state": {
            "_dom_classes": [],
            "_model_module": "@jupyter-widgets/controls",
            "_model_module_version": "1.5.0",
            "_model_name": "HTMLModel",
            "_view_count": null,
            "_view_module": "@jupyter-widgets/controls",
            "_view_module_version": "1.5.0",
            "_view_name": "HTMLView",
            "description": "",
            "description_tooltip": null,
            "layout": "IPY_MODEL_1fb02d67fddb4bde9929a04057f10f2d",
            "placeholder": "​",
            "style": "IPY_MODEL_976ef4a7402c4332a70f3fd946462873",
            "value": " 762/762 [00:00&lt;00:00, 21.3kB/s]"
          }
        },
        "9ec5fdc7d4384c51849cb9a2a5b0f3fd": {
          "model_module": "@jupyter-widgets/base",
          "model_name": "LayoutModel",
          "model_module_version": "1.2.0",
          "state": {
            "_model_module": "@jupyter-widgets/base",
            "_model_module_version": "1.2.0",
            "_model_name": "LayoutModel",
            "_view_count": null,
            "_view_module": "@jupyter-widgets/base",
            "_view_module_version": "1.2.0",
            "_view_name": "LayoutView",
            "align_content": null,
            "align_items": null,
            "align_self": null,
            "border": null,
            "bottom": null,
            "display": null,
            "flex": null,
            "flex_flow": null,
            "grid_area": null,
            "grid_auto_columns": null,
            "grid_auto_flow": null,
            "grid_auto_rows": null,
            "grid_column": null,
            "grid_gap": null,
            "grid_row": null,
            "grid_template_areas": null,
            "grid_template_columns": null,
            "grid_template_rows": null,
            "height": null,
            "justify_content": null,
            "justify_items": null,
            "left": null,
            "margin": null,
            "max_height": null,
            "max_width": null,
            "min_height": null,
            "min_width": null,
            "object_fit": null,
            "object_position": null,
            "order": null,
            "overflow": null,
            "overflow_x": null,
            "overflow_y": null,
            "padding": null,
            "right": null,
            "top": null,
            "visibility": null,
            "width": null
          }
        },
        "aa6c48c2971441d6995e08435a484efb": {
          "model_module": "@jupyter-widgets/base",
          "model_name": "LayoutModel",
          "model_module_version": "1.2.0",
          "state": {
            "_model_module": "@jupyter-widgets/base",
            "_model_module_version": "1.2.0",
            "_model_name": "LayoutModel",
            "_view_count": null,
            "_view_module": "@jupyter-widgets/base",
            "_view_module_version": "1.2.0",
            "_view_name": "LayoutView",
            "align_content": null,
            "align_items": null,
            "align_self": null,
            "border": null,
            "bottom": null,
            "display": null,
            "flex": null,
            "flex_flow": null,
            "grid_area": null,
            "grid_auto_columns": null,
            "grid_auto_flow": null,
            "grid_auto_rows": null,
            "grid_column": null,
            "grid_gap": null,
            "grid_row": null,
            "grid_template_areas": null,
            "grid_template_columns": null,
            "grid_template_rows": null,
            "height": null,
            "justify_content": null,
            "justify_items": null,
            "left": null,
            "margin": null,
            "max_height": null,
            "max_width": null,
            "min_height": null,
            "min_width": null,
            "object_fit": null,
            "object_position": null,
            "order": null,
            "overflow": null,
            "overflow_x": null,
            "overflow_y": null,
            "padding": null,
            "right": null,
            "top": null,
            "visibility": null,
            "width": null
          }
        },
        "49bb79c138b0456194447ca904242549": {
          "model_module": "@jupyter-widgets/controls",
          "model_name": "DescriptionStyleModel",
          "model_module_version": "1.5.0",
          "state": {
            "_model_module": "@jupyter-widgets/controls",
            "_model_module_version": "1.5.0",
            "_model_name": "DescriptionStyleModel",
            "_view_count": null,
            "_view_module": "@jupyter-widgets/base",
            "_view_module_version": "1.2.0",
            "_view_name": "StyleView",
            "description_width": ""
          }
        },
        "2df9abd9d44f49448a1b049e7bba53bf": {
          "model_module": "@jupyter-widgets/base",
          "model_name": "LayoutModel",
          "model_module_version": "1.2.0",
          "state": {
            "_model_module": "@jupyter-widgets/base",
            "_model_module_version": "1.2.0",
            "_model_name": "LayoutModel",
            "_view_count": null,
            "_view_module": "@jupyter-widgets/base",
            "_view_module_version": "1.2.0",
            "_view_name": "LayoutView",
            "align_content": null,
            "align_items": null,
            "align_self": null,
            "border": null,
            "bottom": null,
            "display": null,
            "flex": null,
            "flex_flow": null,
            "grid_area": null,
            "grid_auto_columns": null,
            "grid_auto_flow": null,
            "grid_auto_rows": null,
            "grid_column": null,
            "grid_gap": null,
            "grid_row": null,
            "grid_template_areas": null,
            "grid_template_columns": null,
            "grid_template_rows": null,
            "height": null,
            "justify_content": null,
            "justify_items": null,
            "left": null,
            "margin": null,
            "max_height": null,
            "max_width": null,
            "min_height": null,
            "min_width": null,
            "object_fit": null,
            "object_position": null,
            "order": null,
            "overflow": null,
            "overflow_x": null,
            "overflow_y": null,
            "padding": null,
            "right": null,
            "top": null,
            "visibility": null,
            "width": null
          }
        },
        "186890d660684bcda99bdc73c363378e": {
          "model_module": "@jupyter-widgets/controls",
          "model_name": "ProgressStyleModel",
          "model_module_version": "1.5.0",
          "state": {
            "_model_module": "@jupyter-widgets/controls",
            "_model_module_version": "1.5.0",
            "_model_name": "ProgressStyleModel",
            "_view_count": null,
            "_view_module": "@jupyter-widgets/base",
            "_view_module_version": "1.2.0",
            "_view_name": "StyleView",
            "bar_color": null,
            "description_width": ""
          }
        },
        "1fb02d67fddb4bde9929a04057f10f2d": {
          "model_module": "@jupyter-widgets/base",
          "model_name": "LayoutModel",
          "model_module_version": "1.2.0",
          "state": {
            "_model_module": "@jupyter-widgets/base",
            "_model_module_version": "1.2.0",
            "_model_name": "LayoutModel",
            "_view_count": null,
            "_view_module": "@jupyter-widgets/base",
            "_view_module_version": "1.2.0",
            "_view_name": "LayoutView",
            "align_content": null,
            "align_items": null,
            "align_self": null,
            "border": null,
            "bottom": null,
            "display": null,
            "flex": null,
            "flex_flow": null,
            "grid_area": null,
            "grid_auto_columns": null,
            "grid_auto_flow": null,
            "grid_auto_rows": null,
            "grid_column": null,
            "grid_gap": null,
            "grid_row": null,
            "grid_template_areas": null,
            "grid_template_columns": null,
            "grid_template_rows": null,
            "height": null,
            "justify_content": null,
            "justify_items": null,
            "left": null,
            "margin": null,
            "max_height": null,
            "max_width": null,
            "min_height": null,
            "min_width": null,
            "object_fit": null,
            "object_position": null,
            "order": null,
            "overflow": null,
            "overflow_x": null,
            "overflow_y": null,
            "padding": null,
            "right": null,
            "top": null,
            "visibility": null,
            "width": null
          }
        },
        "976ef4a7402c4332a70f3fd946462873": {
          "model_module": "@jupyter-widgets/controls",
          "model_name": "DescriptionStyleModel",
          "model_module_version": "1.5.0",
          "state": {
            "_model_module": "@jupyter-widgets/controls",
            "_model_module_version": "1.5.0",
            "_model_name": "DescriptionStyleModel",
            "_view_count": null,
            "_view_module": "@jupyter-widgets/base",
            "_view_module_version": "1.2.0",
            "_view_name": "StyleView",
            "description_width": ""
          }
        }
      }
    }
  },
  "nbformat": 4,
  "nbformat_minor": 5
}
